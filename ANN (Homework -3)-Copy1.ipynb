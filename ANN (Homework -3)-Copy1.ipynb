{
 "cells": [
  {
   "cell_type": "code",
   "execution_count": 1,
   "metadata": {
    "collapsed": true
   },
   "outputs": [],
   "source": [
    "#Mohammed Farees Pat3l (HoneWork -3)\n",
    "\n",
    "# LVQ for the Ionosphere Dataset\n",
    "from random import seed\n",
    "from random import randrange\n",
    "from csv import reader\n",
    "from math import sqrt\n",
    "import pylab as pl\n",
    "import random\n",
    "import timeit\n",
    "\n",
    "#SVM\n",
    "import pandas as pd\n",
    "import numpy as np\n",
    "from sklearn import svm, datasets\n",
    "from sklearn.model_selection import train_test_split\n",
    "from sklearn.model_selection import GridSearchCV\n",
    "from sklearn.metrics import classification_report\n",
    "from sklearn.utils import shuffle\n",
    "import matplotlib.pyplot as plt\n",
    "from sklearn.metrics import roc_curve, auc, accuracy_score, confusion_matrix\n",
    "% matplotlib inline\n",
    "\n",
    "\n",
    "global train_start, test_start, test_end\n"
   ]
  },
  {
   "cell_type": "code",
   "execution_count": 2,
   "metadata": {
    "collapsed": true
   },
   "outputs": [],
   "source": [
    "# Load a CSV file\n",
    "def load_csv(filename):\n",
    "\tdataset=list()\n",
    "\twith open(filename, 'r') as file:\n",
    "\t\tcsv_reader = reader(file)\n",
    "\t\tfor row in csv_reader:\n",
    "\t\t\tif not row:\n",
    "\t\t\t\tcontinue\n",
    "\t\t\tdataset.append(row)\n",
    "\treturn dataset"
   ]
  },
  {
   "cell_type": "code",
   "execution_count": 3,
   "metadata": {
    "collapsed": true
   },
   "outputs": [],
   "source": [
    "# Convert string column to float\n",
    "def str_column_to_float(dataset, column):\n",
    "\tfor row in dataset:\n",
    "\t\trow[column] = float(row[column].strip())\n",
    " \n",
    "# Convert string column to integer\n",
    "def str_column_to_int(dataset, column):\n",
    "\tclass_values = [row[column] for row in dataset]\n",
    "\tunique = set(class_values)\n",
    "\tlookup = dict()\n",
    "\tfor i, value in enumerate(unique):\n",
    "\t\tlookup[value] = i\n",
    "\tfor row in dataset:\n",
    "\t\trow[column] = lookup[row[column]]\n",
    "\treturn lookup"
   ]
  },
  {
   "cell_type": "code",
   "execution_count": 4,
   "metadata": {
    "collapsed": true
   },
   "outputs": [],
   "source": [
    "# Split a dataset into k folds\n",
    "def cross_validation_split(dataset, n_folds):\n",
    "\tdataset_split = list()\n",
    "\tdataset_copy = list(dataset)\n",
    "\tfold_size = int(len(dataset) / n_folds)\n",
    "\tfor i in range(n_folds):\n",
    "\t\tfold = list()\n",
    "\t\twhile len(fold) < fold_size:\n",
    "\t\t\tindex = randrange(len(dataset_copy))\n",
    "\t\t\tfold.append(dataset_copy.pop(index))\n",
    "\t\tdataset_split.append(fold)\n",
    "\treturn dataset_split\n",
    " \n",
    "# Calculate accuracy percentage\n",
    "def accuracy_metric(actual, predicted):\n",
    "\tcorrect = 0\n",
    "\tfor i in range(len(actual)):\n",
    "\t\tif actual[i] == predicted[i]:\n",
    "\t\t\tcorrect += 1\n",
    "\treturn correct / float(len(actual)) * 100.0\n",
    "\n",
    "plot_roc=list()\n",
    "\n",
    " \n",
    "# Evaluate an algorithm using a cross validation split\n",
    "def evaluate_algorithm(dataset, algorithm, n_folds, *args):\n",
    "\tfolds = cross_validation_split(dataset, n_folds)\n",
    "\tscores = list()\n",
    "\tfor fold in folds:\n",
    "\t\ttrain_set = list(folds)\n",
    "\t\ttrain_set.remove(fold)\n",
    "\t\ttrain_set = sum(train_set, [])\n",
    "\t\ttest_set = list()\n",
    "\t\tfor row in fold:\n",
    "\t\t\trow_copy = list(row)\n",
    "\t\t\ttest_set.append(row_copy)\n",
    "\t\t\trow_copy[-1] = None\n",
    "\t\tpredicted = algorithm(train_set, test_set, *args)\n",
    "\t\tactual = [row[-1] for row in fold]\n",
    "\t\tplot_roc.append((actual, predicted))\n",
    "\t\taccuracy = accuracy_metric(actual, predicted)\n",
    "\t\tscores.append(accuracy)\n",
    "\treturn scores\n",
    " \n",
    "# calculate the Euclidean distance between two vectors\n",
    "def euclidean_distance(row1, row2):\n",
    "\tdistance = 0.0\n",
    "\tfor i in range(len(row1)-1):\n",
    "\t\tdistance += (row1[i] - row2[i])**2\n",
    "\treturn sqrt(distance)\n",
    " \n",
    "# Locate the best matching unit\n",
    "def get_best_matching_unit(codebooks, test_row):\n",
    "\tdistances = list()\n",
    "\tfor codebook in codebooks:\n",
    "\t\tdist = euclidean_distance(codebook, test_row)\n",
    "\t\tdistances.append((codebook, dist))\n",
    "\tdistances.sort(key=lambda tup: tup[1])\n",
    "\treturn distances[0][0]\n",
    " \n",
    "# Make a prediction with codebook vectors\n",
    "def predict(codebooks, test_row):\n",
    "\tbmu = get_best_matching_unit(codebooks, test_row)\n",
    "\treturn bmu[-1]\n",
    " \n",
    "# Create a random codebook vector\n",
    "def random_codebook(train):\n",
    "\tn_records = len(train)\n",
    "\tn_features = len(train[0])\n",
    "\tcodebook = [train[randrange(n_records)][i] for i in range(n_features)]\n",
    "\treturn codebook\n",
    " \n",
    "# Train a set of codebook vectors\n",
    "def train_codebooks(train, n_codebooks, lrate, epochs):\n",
    "\tcodebooks = [random_codebook(train) for i in range(n_codebooks)]\n",
    "\tfor epoch in range(epochs):\n",
    "\t\trate = lrate * (1.0-(epoch/float(epochs)))\n",
    "\t\tsum_error = 0.0\n",
    "\t\tfor row in train:\n",
    "\t\t\tbmu = get_best_matching_unit(codebooks, row)\n",
    "\t\t\tfor i in range(len(row)-1):\n",
    "\t\t\t\terror = row[i] - bmu[i]\n",
    "\t\t\t\tsum_error += error**2\n",
    "\t\t\t\tif bmu[-1] == row[-1]:\n",
    "\t\t\t\t\tbmu[i] += rate * error\n",
    "\t\t\t\telse:\n",
    "\t\t\t\t\tbmu[i] -= rate * error\n",
    "#\t\tprint('>epoch=%d, lrate=%.3f, error=%.3f' % (epoch, rate, sum_error))\n",
    "\treturn codebooks\n",
    " \n",
    "# LVQ Algorithm\n",
    "def learning_vector_quantization(train, test, n_codebooks, lrate, epochs):\n",
    "\tcodebooks = train_codebooks(train, n_codebooks, lrate, epochs)\n",
    "\tpredictions = list()\n",
    "\tfor row in test:\n",
    "\t\toutput = predict(codebooks, row)\n",
    "\t\tpredictions.append(output)\n",
    "\treturn(predictions)"
   ]
  },
  {
   "cell_type": "code",
   "execution_count": 5,
   "metadata": {
    "collapsed": true
   },
   "outputs": [],
   "source": [
    "# Test LVQ on Ionosphere dataset\n",
    "#seed(1)\n",
    "# load and prepare data\n",
    "filename = 'C:/Users/Farees Patel/Desktop/ionosphere.csv'\n",
    "dataset = load_csv(filename)"
   ]
  },
  {
   "cell_type": "code",
   "execution_count": 6,
   "metadata": {},
   "outputs": [
    {
     "data": {
      "text/plain": [
       "{'0': 0, '1': 1}"
      ]
     },
     "execution_count": 6,
     "metadata": {},
     "output_type": "execute_result"
    }
   ],
   "source": [
    "for i in range(len(dataset[0])-1):\n",
    "\tstr_column_to_float(dataset, i)\n",
    "# convert class column to integers\n",
    "str_column_to_int(dataset, len(dataset[0])-1)"
   ]
  },
  {
   "cell_type": "code",
   "execution_count": 7,
   "metadata": {
    "collapsed": true
   },
   "outputs": [],
   "source": [
    "lvq_parameters={'learning_Rate': list(pl.frange(0.1,1,0.1)),\n",
    "              'Number of Codebook': list(range(5,25,5)),\n",
    "            'Number of epoch': list(range(50,300,50))}"
   ]
  },
  {
   "cell_type": "code",
   "execution_count": 14,
   "metadata": {},
   "outputs": [
    {
     "name": "stdout",
     "output_type": "stream",
     "text": [
      "learning_Rate: 0.10\tNumber of Codebook: 5 \t\tNumber of epoch: 50 \t\tMean Accuracy: 86.000% \t\t\n",
      "learning_Rate: 0.10\tNumber of Codebook: 5 \t\tNumber of epoch: 100 \t\tMean Accuracy: 82.571% \t\t\n",
      "learning_Rate: 0.10\tNumber of Codebook: 5 \t\tNumber of epoch: 150 \t\tMean Accuracy: 81.429% \t\t\n",
      "learning_Rate: 0.10\tNumber of Codebook: 5 \t\tNumber of epoch: 200 \t\tMean Accuracy: 80.571% \t\t\n"
     ]
    },
    {
     "ename": "KeyboardInterrupt",
     "evalue": "",
     "output_type": "error",
     "traceback": [
      "\u001b[1;31m---------------------------------------------------------------------------\u001b[0m",
      "\u001b[1;31mKeyboardInterrupt\u001b[0m                         Traceback (most recent call last)",
      "\u001b[1;32m<ipython-input-14-e4a11914828b>\u001b[0m in \u001b[0;36m<module>\u001b[1;34m()\u001b[0m\n\u001b[0;32m      6\u001b[0m         \u001b[1;32mfor\u001b[0m \u001b[0mn_codebooks\u001b[0m \u001b[1;32min\u001b[0m \u001b[0mlvq_parameters\u001b[0m\u001b[1;33m[\u001b[0m\u001b[1;34m'Number of Codebook'\u001b[0m\u001b[1;33m]\u001b[0m\u001b[1;33m:\u001b[0m\u001b[1;33m\u001b[0m\u001b[0m\n\u001b[0;32m      7\u001b[0m             \u001b[1;32mfor\u001b[0m \u001b[0mn_epochs\u001b[0m \u001b[1;32min\u001b[0m \u001b[0mlvq_parameters\u001b[0m\u001b[1;33m[\u001b[0m\u001b[1;34m'Number of epoch'\u001b[0m\u001b[1;33m]\u001b[0m\u001b[1;33m:\u001b[0m\u001b[1;33m\u001b[0m\u001b[0m\n\u001b[1;32m----> 8\u001b[1;33m                 \u001b[0mscores\u001b[0m \u001b[1;33m=\u001b[0m \u001b[0mevaluate_algorithm\u001b[0m\u001b[1;33m(\u001b[0m\u001b[0mdataset\u001b[0m\u001b[1;33m,\u001b[0m \u001b[0mlearning_vector_quantization\u001b[0m\u001b[1;33m,\u001b[0m \u001b[0mn_folds\u001b[0m\u001b[1;33m,\u001b[0m \u001b[0mn_codebooks\u001b[0m\u001b[1;33m,\u001b[0m \u001b[0mlearn_rate\u001b[0m\u001b[1;33m,\u001b[0m \u001b[0mn_epochs\u001b[0m\u001b[1;33m)\u001b[0m\u001b[1;33m\u001b[0m\u001b[0m\n\u001b[0m\u001b[0;32m      9\u001b[0m                 \u001b[0maccuracy\u001b[0m\u001b[1;33m.\u001b[0m\u001b[0mappend\u001b[0m\u001b[1;33m(\u001b[0m\u001b[1;33m(\u001b[0m\u001b[0mlearn_rate\u001b[0m\u001b[1;33m,\u001b[0m \u001b[0mn_codebooks\u001b[0m\u001b[1;33m,\u001b[0m \u001b[0mn_epochs\u001b[0m\u001b[1;33m,\u001b[0m \u001b[0msum\u001b[0m\u001b[1;33m(\u001b[0m\u001b[0mscores\u001b[0m\u001b[1;33m)\u001b[0m\u001b[1;33m/\u001b[0m\u001b[0mfloat\u001b[0m\u001b[1;33m(\u001b[0m\u001b[0mlen\u001b[0m\u001b[1;33m(\u001b[0m\u001b[0mscores\u001b[0m\u001b[1;33m)\u001b[0m\u001b[1;33m)\u001b[0m\u001b[1;33m)\u001b[0m\u001b[1;33m)\u001b[0m\u001b[1;33m\u001b[0m\u001b[0m\n\u001b[0;32m     10\u001b[0m                 \u001b[0moutput\u001b[0m\u001b[1;33m.\u001b[0m\u001b[0mwrite\u001b[0m\u001b[1;33m(\u001b[0m\u001b[0mstr\u001b[0m\u001b[1;33m(\u001b[0m\u001b[0maccuracy\u001b[0m\u001b[1;33m)\u001b[0m\u001b[1;33m)\u001b[0m\u001b[1;33m\u001b[0m\u001b[0m\n",
      "\u001b[1;32m<ipython-input-7-07214f500c19>\u001b[0m in \u001b[0;36mevaluate_algorithm\u001b[1;34m(dataset, algorithm, n_folds, *args)\u001b[0m\n\u001b[0;32m     36\u001b[0m                         \u001b[0mtest_set\u001b[0m\u001b[1;33m.\u001b[0m\u001b[0mappend\u001b[0m\u001b[1;33m(\u001b[0m\u001b[0mrow_copy\u001b[0m\u001b[1;33m)\u001b[0m\u001b[1;33m\u001b[0m\u001b[0m\n\u001b[0;32m     37\u001b[0m                         \u001b[0mrow_copy\u001b[0m\u001b[1;33m[\u001b[0m\u001b[1;33m-\u001b[0m\u001b[1;36m1\u001b[0m\u001b[1;33m]\u001b[0m \u001b[1;33m=\u001b[0m \u001b[1;32mNone\u001b[0m\u001b[1;33m\u001b[0m\u001b[0m\n\u001b[1;32m---> 38\u001b[1;33m                 \u001b[0mpredicted\u001b[0m \u001b[1;33m=\u001b[0m \u001b[0malgorithm\u001b[0m\u001b[1;33m(\u001b[0m\u001b[0mtrain_set\u001b[0m\u001b[1;33m,\u001b[0m \u001b[0mtest_set\u001b[0m\u001b[1;33m,\u001b[0m \u001b[1;33m*\u001b[0m\u001b[0margs\u001b[0m\u001b[1;33m)\u001b[0m\u001b[1;33m\u001b[0m\u001b[0m\n\u001b[0m\u001b[0;32m     39\u001b[0m                 \u001b[0mactual\u001b[0m \u001b[1;33m=\u001b[0m \u001b[1;33m[\u001b[0m\u001b[0mrow\u001b[0m\u001b[1;33m[\u001b[0m\u001b[1;33m-\u001b[0m\u001b[1;36m1\u001b[0m\u001b[1;33m]\u001b[0m \u001b[1;32mfor\u001b[0m \u001b[0mrow\u001b[0m \u001b[1;32min\u001b[0m \u001b[0mfold\u001b[0m\u001b[1;33m]\u001b[0m\u001b[1;33m\u001b[0m\u001b[0m\n\u001b[0;32m     40\u001b[0m                 \u001b[0mplot_roc\u001b[0m\u001b[1;33m.\u001b[0m\u001b[0mappend\u001b[0m\u001b[1;33m(\u001b[0m\u001b[1;33m(\u001b[0m\u001b[0mactual\u001b[0m\u001b[1;33m,\u001b[0m \u001b[0mpredicted\u001b[0m\u001b[1;33m)\u001b[0m\u001b[1;33m)\u001b[0m\u001b[1;33m\u001b[0m\u001b[0m\n",
      "\u001b[1;32m<ipython-input-7-07214f500c19>\u001b[0m in \u001b[0;36mlearning_vector_quantization\u001b[1;34m(train, test, n_codebooks, lrate, epochs)\u001b[0m\n\u001b[0;32m     91\u001b[0m \u001b[1;31m# LVQ Algorithm\u001b[0m\u001b[1;33m\u001b[0m\u001b[1;33m\u001b[0m\u001b[0m\n\u001b[0;32m     92\u001b[0m \u001b[1;32mdef\u001b[0m \u001b[0mlearning_vector_quantization\u001b[0m\u001b[1;33m(\u001b[0m\u001b[0mtrain\u001b[0m\u001b[1;33m,\u001b[0m \u001b[0mtest\u001b[0m\u001b[1;33m,\u001b[0m \u001b[0mn_codebooks\u001b[0m\u001b[1;33m,\u001b[0m \u001b[0mlrate\u001b[0m\u001b[1;33m,\u001b[0m \u001b[0mepochs\u001b[0m\u001b[1;33m)\u001b[0m\u001b[1;33m:\u001b[0m\u001b[1;33m\u001b[0m\u001b[0m\n\u001b[1;32m---> 93\u001b[1;33m         \u001b[0mcodebooks\u001b[0m \u001b[1;33m=\u001b[0m \u001b[0mtrain_codebooks\u001b[0m\u001b[1;33m(\u001b[0m\u001b[0mtrain\u001b[0m\u001b[1;33m,\u001b[0m \u001b[0mn_codebooks\u001b[0m\u001b[1;33m,\u001b[0m \u001b[0mlrate\u001b[0m\u001b[1;33m,\u001b[0m \u001b[0mepochs\u001b[0m\u001b[1;33m)\u001b[0m\u001b[1;33m\u001b[0m\u001b[0m\n\u001b[0m\u001b[0;32m     94\u001b[0m         \u001b[0mpredictions\u001b[0m \u001b[1;33m=\u001b[0m \u001b[0mlist\u001b[0m\u001b[1;33m(\u001b[0m\u001b[1;33m)\u001b[0m\u001b[1;33m\u001b[0m\u001b[0m\n\u001b[0;32m     95\u001b[0m         \u001b[1;32mfor\u001b[0m \u001b[0mrow\u001b[0m \u001b[1;32min\u001b[0m \u001b[0mtest\u001b[0m\u001b[1;33m:\u001b[0m\u001b[1;33m\u001b[0m\u001b[0m\n",
      "\u001b[1;32m<ipython-input-7-07214f500c19>\u001b[0m in \u001b[0;36mtrain_codebooks\u001b[1;34m(train, n_codebooks, lrate, epochs)\u001b[0m\n\u001b[0;32m     78\u001b[0m                 \u001b[0msum_error\u001b[0m \u001b[1;33m=\u001b[0m \u001b[1;36m0.0\u001b[0m\u001b[1;33m\u001b[0m\u001b[0m\n\u001b[0;32m     79\u001b[0m                 \u001b[1;32mfor\u001b[0m \u001b[0mrow\u001b[0m \u001b[1;32min\u001b[0m \u001b[0mtrain\u001b[0m\u001b[1;33m:\u001b[0m\u001b[1;33m\u001b[0m\u001b[0m\n\u001b[1;32m---> 80\u001b[1;33m                         \u001b[0mbmu\u001b[0m \u001b[1;33m=\u001b[0m \u001b[0mget_best_matching_unit\u001b[0m\u001b[1;33m(\u001b[0m\u001b[0mcodebooks\u001b[0m\u001b[1;33m,\u001b[0m \u001b[0mrow\u001b[0m\u001b[1;33m)\u001b[0m\u001b[1;33m\u001b[0m\u001b[0m\n\u001b[0m\u001b[0;32m     81\u001b[0m                         \u001b[1;32mfor\u001b[0m \u001b[0mi\u001b[0m \u001b[1;32min\u001b[0m \u001b[0mrange\u001b[0m\u001b[1;33m(\u001b[0m\u001b[0mlen\u001b[0m\u001b[1;33m(\u001b[0m\u001b[0mrow\u001b[0m\u001b[1;33m)\u001b[0m\u001b[1;33m-\u001b[0m\u001b[1;36m1\u001b[0m\u001b[1;33m)\u001b[0m\u001b[1;33m:\u001b[0m\u001b[1;33m\u001b[0m\u001b[0m\n\u001b[0;32m     82\u001b[0m                                 \u001b[0merror\u001b[0m \u001b[1;33m=\u001b[0m \u001b[0mrow\u001b[0m\u001b[1;33m[\u001b[0m\u001b[0mi\u001b[0m\u001b[1;33m]\u001b[0m \u001b[1;33m-\u001b[0m \u001b[0mbmu\u001b[0m\u001b[1;33m[\u001b[0m\u001b[0mi\u001b[0m\u001b[1;33m]\u001b[0m\u001b[1;33m\u001b[0m\u001b[0m\n",
      "\u001b[1;32m<ipython-input-7-07214f500c19>\u001b[0m in \u001b[0;36mget_best_matching_unit\u001b[1;34m(codebooks, test_row)\u001b[0m\n\u001b[0;32m     54\u001b[0m         \u001b[0mdistances\u001b[0m \u001b[1;33m=\u001b[0m \u001b[0mlist\u001b[0m\u001b[1;33m(\u001b[0m\u001b[1;33m)\u001b[0m\u001b[1;33m\u001b[0m\u001b[0m\n\u001b[0;32m     55\u001b[0m         \u001b[1;32mfor\u001b[0m \u001b[0mcodebook\u001b[0m \u001b[1;32min\u001b[0m \u001b[0mcodebooks\u001b[0m\u001b[1;33m:\u001b[0m\u001b[1;33m\u001b[0m\u001b[0m\n\u001b[1;32m---> 56\u001b[1;33m                 \u001b[0mdist\u001b[0m \u001b[1;33m=\u001b[0m \u001b[0meuclidean_distance\u001b[0m\u001b[1;33m(\u001b[0m\u001b[0mcodebook\u001b[0m\u001b[1;33m,\u001b[0m \u001b[0mtest_row\u001b[0m\u001b[1;33m)\u001b[0m\u001b[1;33m\u001b[0m\u001b[0m\n\u001b[0m\u001b[0;32m     57\u001b[0m                 \u001b[0mdistances\u001b[0m\u001b[1;33m.\u001b[0m\u001b[0mappend\u001b[0m\u001b[1;33m(\u001b[0m\u001b[1;33m(\u001b[0m\u001b[0mcodebook\u001b[0m\u001b[1;33m,\u001b[0m \u001b[0mdist\u001b[0m\u001b[1;33m)\u001b[0m\u001b[1;33m)\u001b[0m\u001b[1;33m\u001b[0m\u001b[0m\n\u001b[0;32m     58\u001b[0m         \u001b[0mdistances\u001b[0m\u001b[1;33m.\u001b[0m\u001b[0msort\u001b[0m\u001b[1;33m(\u001b[0m\u001b[0mkey\u001b[0m\u001b[1;33m=\u001b[0m\u001b[1;32mlambda\u001b[0m \u001b[0mtup\u001b[0m\u001b[1;33m:\u001b[0m \u001b[0mtup\u001b[0m\u001b[1;33m[\u001b[0m\u001b[1;36m1\u001b[0m\u001b[1;33m]\u001b[0m\u001b[1;33m)\u001b[0m\u001b[1;33m\u001b[0m\u001b[0m\n",
      "\u001b[1;32m<ipython-input-7-07214f500c19>\u001b[0m in \u001b[0;36meuclidean_distance\u001b[1;34m(row1, row2)\u001b[0m\n\u001b[0;32m     47\u001b[0m         \u001b[0mdistance\u001b[0m \u001b[1;33m=\u001b[0m \u001b[1;36m0.0\u001b[0m\u001b[1;33m\u001b[0m\u001b[0m\n\u001b[0;32m     48\u001b[0m         \u001b[1;32mfor\u001b[0m \u001b[0mi\u001b[0m \u001b[1;32min\u001b[0m \u001b[0mrange\u001b[0m\u001b[1;33m(\u001b[0m\u001b[0mlen\u001b[0m\u001b[1;33m(\u001b[0m\u001b[0mrow1\u001b[0m\u001b[1;33m)\u001b[0m\u001b[1;33m-\u001b[0m\u001b[1;36m1\u001b[0m\u001b[1;33m)\u001b[0m\u001b[1;33m:\u001b[0m\u001b[1;33m\u001b[0m\u001b[0m\n\u001b[1;32m---> 49\u001b[1;33m                 \u001b[0mdistance\u001b[0m \u001b[1;33m+=\u001b[0m \u001b[1;33m(\u001b[0m\u001b[0mrow1\u001b[0m\u001b[1;33m[\u001b[0m\u001b[0mi\u001b[0m\u001b[1;33m]\u001b[0m \u001b[1;33m-\u001b[0m \u001b[0mrow2\u001b[0m\u001b[1;33m[\u001b[0m\u001b[0mi\u001b[0m\u001b[1;33m]\u001b[0m\u001b[1;33m)\u001b[0m\u001b[1;33m**\u001b[0m\u001b[1;36m2\u001b[0m\u001b[1;33m\u001b[0m\u001b[0m\n\u001b[0m\u001b[0;32m     50\u001b[0m         \u001b[1;32mreturn\u001b[0m \u001b[0msqrt\u001b[0m\u001b[1;33m(\u001b[0m\u001b[0mdistance\u001b[0m\u001b[1;33m)\u001b[0m\u001b[1;33m\u001b[0m\u001b[0m\n\u001b[0;32m     51\u001b[0m \u001b[1;33m\u001b[0m\u001b[0m\n",
      "\u001b[1;31mKeyboardInterrupt\u001b[0m: "
     ]
    }
   ],
   "source": [
    "n_folds = 5\n",
    "accuracy=list()\n",
    "\n",
    "with open(\"batch_file.txt\", \"w\") as output:\n",
    "    for learn_rate in lvq_parameters['learning_Rate']:\n",
    "        for n_codebooks in lvq_parameters['Number of Codebook']:\n",
    "            for n_epochs in lvq_parameters['Number of epoch']:\n",
    "                scores = evaluate_algorithm(dataset, learning_vector_quantization, n_folds, n_codebooks, learn_rate, n_epochs)\n",
    "                accuracy.append((learn_rate, n_codebooks, n_epochs, sum(scores)/float(len(scores))))\n",
    "                output.write(str(accuracy))\n",
    "                output.write(str(\"\\n\"))\n",
    "                print (\"learning_Rate: %.2f\\t\" \"Number of Codebook: %d \\t\\t\" \"Number of epoch: %d \\t\\t\" \"Mean Accuracy: %0.3f%% \\t\\t\" % (learn_rate, n_codebooks, n_epochs, (sum(scores)/float(len(scores)))))            \n"
   ]
  },
  {
   "cell_type": "code",
   "execution_count": 691,
   "metadata": {},
   "outputs": [
    {
     "name": "stdout",
     "output_type": "stream",
     "text": [
      "LVQ best parameters: l_rate=0.30\t n_codebook=20\t n_epochs=250\n"
     ]
    }
   ],
   "source": [
    "import ast\n",
    "\n",
    "with open('C:/Users/Farees Patel/Desktop/batch_file.txt') as f:\n",
    "    lines = f.read().splitlines()\n",
    "\n",
    "x=ast.literal_eval(lines[-1])\n",
    "r=list()\n",
    "for i in x:\n",
    "    r.append(tuple(i))\n",
    "    \n",
    "r.sort(key=lambda tup: tup[3], reverse=True)\n",
    "print(\"LVQ best parameters: l_rate=%.2f\\t n_codebook=%d\\t n_epochs=%d\" % (r[1][0],r[1][1],r[1][2]))"
   ]
  },
  {
   "cell_type": "code",
   "execution_count": 707,
   "metadata": {
    "collapsed": true
   },
   "outputs": [],
   "source": [
    "l_rate=list()\n",
    "n_codebook=list()\n",
    "n_epoch=list()\n",
    "acc=list()\n",
    "\n",
    "for i in r:\n",
    "    if(i[0]==0.30000000000000004 and i[1]==20):\n",
    "        #l_rate.append(i[0])\n",
    "        #n_codebook.append(i[1])\n",
    "        n_epoch.append(i[2])\n",
    "        acc.append(i[3]) "
   ]
  },
  {
   "cell_type": "code",
   "execution_count": 708,
   "metadata": {},
   "outputs": [
    {
     "data": {
      "image/png": "[encoded data removed]",
      "text/plain": [
       "<matplotlib.figure.Figure at 0x1cb64c35898>"
      ]
     },
     "metadata": {},
     "output_type": "display_data"
    }
   ],
   "source": [
    "%matplotlib inline\n",
    "fig,ax = plt.subplots(1)\n",
    "#fig, ax2=plot.subplot(2)\n",
    "\n",
    "x1 = np.array(n_epoch)\n",
    "y1 = np.array(acc)\n",
    "# plot the data\n",
    "#ax.plot(x1,y1)\n",
    "plt.plot(x1, y1, 'b')\n",
    "plt.ylabel('Accuracy')\n",
    "plt.xlabel('n_epoch')\n",
    "plt.title(\"Accuracy vs n_epoch\")\n",
    "plt.show() "
   ]
  },
  {
   "cell_type": "code",
   "execution_count": null,
   "metadata": {
    "collapsed": true
   },
   "outputs": [],
   "source": [
    "##SVM"
   ]
  },
  {
   "cell_type": "code",
   "execution_count": 15,
   "metadata": {
    "collapsed": true
   },
   "outputs": [],
   "source": [
    "import pandas as pd\n",
    "import numpy as np\n",
    "from sklearn import svm, datasets\n",
    "from sklearn.model_selection import train_test_split\n",
    "from sklearn.model_selection import GridSearchCV\n",
    "from sklearn.metrics import classification_report\n",
    "from sklearn.utils import shuffle"
   ]
  },
  {
   "cell_type": "code",
   "execution_count": 106,
   "metadata": {
    "collapsed": true
   },
   "outputs": [],
   "source": [
    "svm_dataset=np.array(train_set)"
   ]
  },
  {
   "cell_type": "code",
   "execution_count": 107,
   "metadata": {
    "scrolled": true
   },
   "outputs": [
    {
     "name": "stdout",
     "output_type": "stream",
     "text": [
      "# Tuning hyper-parameters\n",
      "\n",
      "Best parameters set found on development set:\n",
      "\n",
      "{'C': 1, 'gamma': 0.1, 'kernel': 'rbf'}\n",
      "\n",
      "Grid scores on training set:\n",
      "\n",
      "0.647 (+/-0.008) for {'C': 1, 'gamma': 0.0001, 'kernel': 'rbf'}\n",
      "0.647 (+/-0.008) for {'C': 1, 'gamma': 0.001, 'kernel': 'rbf'}\n",
      "0.837 (+/-0.095) for {'C': 1, 'gamma': 0.01, 'kernel': 'rbf'}\n",
      "0.951 (+/-0.063) for {'C': 1, 'gamma': 0.1, 'kernel': 'rbf'}\n",
      "0.951 (+/-0.054) for {'C': 1, 'gamma': 0.2, 'kernel': 'rbf'}\n",
      "0.935 (+/-0.082) for {'C': 1, 'gamma': 0.5, 'kernel': 'rbf'}\n",
      "0.647 (+/-0.008) for {'C': 10, 'gamma': 0.0001, 'kernel': 'rbf'}\n",
      "0.853 (+/-0.120) for {'C': 10, 'gamma': 0.001, 'kernel': 'rbf'}\n",
      "0.918 (+/-0.091) for {'C': 10, 'gamma': 0.01, 'kernel': 'rbf'}\n",
      "0.940 (+/-0.079) for {'C': 10, 'gamma': 0.1, 'kernel': 'rbf'}\n",
      "0.935 (+/-0.044) for {'C': 10, 'gamma': 0.2, 'kernel': 'rbf'}\n",
      "0.940 (+/-0.072) for {'C': 10, 'gamma': 0.5, 'kernel': 'rbf'}\n",
      "0.848 (+/-0.115) for {'C': 100, 'gamma': 0.0001, 'kernel': 'rbf'}\n",
      "0.913 (+/-0.105) for {'C': 100, 'gamma': 0.001, 'kernel': 'rbf'}\n",
      "0.929 (+/-0.089) for {'C': 100, 'gamma': 0.01, 'kernel': 'rbf'}\n",
      "0.940 (+/-0.063) for {'C': 100, 'gamma': 0.1, 'kernel': 'rbf'}\n",
      "0.929 (+/-0.056) for {'C': 100, 'gamma': 0.2, 'kernel': 'rbf'}\n",
      "0.940 (+/-0.072) for {'C': 100, 'gamma': 0.5, 'kernel': 'rbf'}\n",
      "0.880 (+/-0.072) for {'C': 1000, 'gamma': 0.0001, 'kernel': 'rbf'}\n",
      "0.886 (+/-0.094) for {'C': 1000, 'gamma': 0.001, 'kernel': 'rbf'}\n",
      "0.886 (+/-0.073) for {'C': 1000, 'gamma': 0.01, 'kernel': 'rbf'}\n",
      "0.940 (+/-0.063) for {'C': 1000, 'gamma': 0.1, 'kernel': 'rbf'}\n",
      "0.929 (+/-0.056) for {'C': 1000, 'gamma': 0.2, 'kernel': 'rbf'}\n",
      "0.940 (+/-0.072) for {'C': 1000, 'gamma': 0.5, 'kernel': 'rbf'}\n",
      "0.647 (+/-0.008) for {'C': 1, 'gamma': 0.0001, 'kernel': 'poly'}\n",
      "0.647 (+/-0.008) for {'C': 1, 'gamma': 0.001, 'kernel': 'poly'}\n",
      "0.647 (+/-0.008) for {'C': 1, 'gamma': 0.01, 'kernel': 'poly'}\n",
      "0.832 (+/-0.124) for {'C': 1, 'gamma': 0.1, 'kernel': 'poly'}\n",
      "0.842 (+/-0.079) for {'C': 1, 'gamma': 0.2, 'kernel': 'poly'}\n",
      "0.853 (+/-0.073) for {'C': 1, 'gamma': 0.5, 'kernel': 'poly'}\n",
      "0.647 (+/-0.008) for {'C': 10, 'gamma': 0.0001, 'kernel': 'poly'}\n",
      "0.647 (+/-0.008) for {'C': 10, 'gamma': 0.001, 'kernel': 'poly'}\n",
      "0.647 (+/-0.008) for {'C': 10, 'gamma': 0.01, 'kernel': 'poly'}\n",
      "0.859 (+/-0.092) for {'C': 10, 'gamma': 0.1, 'kernel': 'poly'}\n",
      "0.853 (+/-0.073) for {'C': 10, 'gamma': 0.2, 'kernel': 'poly'}\n",
      "0.864 (+/-0.123) for {'C': 10, 'gamma': 0.5, 'kernel': 'poly'}\n",
      "0.647 (+/-0.008) for {'C': 100, 'gamma': 0.0001, 'kernel': 'poly'}\n",
      "0.647 (+/-0.008) for {'C': 100, 'gamma': 0.001, 'kernel': 'poly'}\n",
      "0.652 (+/-0.025) for {'C': 100, 'gamma': 0.01, 'kernel': 'poly'}\n",
      "0.853 (+/-0.073) for {'C': 100, 'gamma': 0.1, 'kernel': 'poly'}\n",
      "0.864 (+/-0.123) for {'C': 100, 'gamma': 0.2, 'kernel': 'poly'}\n",
      "0.864 (+/-0.123) for {'C': 100, 'gamma': 0.5, 'kernel': 'poly'}\n",
      "0.647 (+/-0.008) for {'C': 1000, 'gamma': 0.0001, 'kernel': 'poly'}\n",
      "0.647 (+/-0.008) for {'C': 1000, 'gamma': 0.001, 'kernel': 'poly'}\n",
      "0.832 (+/-0.124) for {'C': 1000, 'gamma': 0.01, 'kernel': 'poly'}\n",
      "0.864 (+/-0.123) for {'C': 1000, 'gamma': 0.1, 'kernel': 'poly'}\n",
      "0.864 (+/-0.123) for {'C': 1000, 'gamma': 0.2, 'kernel': 'poly'}\n",
      "0.864 (+/-0.123) for {'C': 1000, 'gamma': 0.5, 'kernel': 'poly'}\n",
      "0.875 (+/-0.101) for {'C': 1, 'kernel': 'linear'}\n",
      "0.864 (+/-0.078) for {'C': 10, 'kernel': 'linear'}\n",
      "0.842 (+/-0.056) for {'C': 100, 'kernel': 'linear'}\n",
      "0.832 (+/-0.097) for {'C': 1000, 'kernel': 'linear'}\n",
      "\n"
     ]
    }
   ],
   "source": [
    "\n",
    "X=svm_dataset[:,:-1]\n",
    "y=svm_dataset[:,-1]\n",
    "\n",
    "# shuffle the dataset\n",
    "X, y = shuffle(X, y, random_state=0)\n",
    "\n",
    "# Split the dataset in two equal parts\n",
    "X_train, X_test, y_train, y_test = train_test_split(\n",
    "    X, y, test_size=0.25, random_state=0)\n",
    "\n",
    "# Set the parameters by cross-validation\n",
    "parameters = [{'kernel': ['rbf'],\n",
    "               'gamma': [1e-4, 1e-3, 0.01, 0.1, 0.2, 0.5],\n",
    "                'C': [1, 10, 100, 1000]},\n",
    "              {'kernel': ['poly'],\n",
    "               'gamma': [1e-4, 1e-3, 0.01, 0.1, 0.2, 0.5],\n",
    "                'C': [1, 10, 100, 1000]},\n",
    "              {'kernel': ['linear'], 'C': [1, 10, 100, 1000]}]\n",
    "\n",
    "print(\"# Tuning hyper-parameters\")\n",
    "print()\n",
    "\n",
    "clf = GridSearchCV(svm.SVC(decision_function_shape='ovr'), parameters, cv=5)\n",
    "clf.fit(X_train, y_train)\n",
    "\n",
    "print(\"Best parameters set found on development set:\")\n",
    "print()\n",
    "print(clf.best_params_)\n",
    "print()\n",
    "print(\"Grid scores on training set:\")\n",
    "print()\n",
    "means = clf.cv_results_['mean_test_score']\n",
    "stds = clf.cv_results_['std_test_score']\n",
    "for mean, std, params in zip(means, stds, clf.cv_results_['params']):\n",
    "    print(\"%0.3f (+/-%0.03f) for %r\"\n",
    "          % (mean, std * 2, params))\n",
    "print()"
   ]
  },
  {
   "cell_type": "code",
   "execution_count": 709,
   "metadata": {
    "collapsed": true
   },
   "outputs": [],
   "source": [
    "C=list()\n",
    "gamma=list()\n",
    "kernel=list\n",
    "acc=list()\n",
    "\n",
    "for i, a in zip(clf.cv_results_['params'], means):\n",
    "    if(i[\"kernel\"]==\"rbf\" and i[\"C\"]==1):\n",
    "        #C.append(i[\"C\"])\n",
    "        gamma.append(i[\"gamma\"])\n",
    "        acc.append(a)   "
   ]
  },
  {
   "cell_type": "code",
   "execution_count": 710,
   "metadata": {},
   "outputs": [
    {
     "data": {
      "image/png": "[encoded data removed]",
      "text/plain": [
       "<matplotlib.figure.Figure at 0x1cb64b1ae80>"
      ]
     },
     "metadata": {},
     "output_type": "display_data"
    }
   ],
   "source": [
    "%matplotlib inline\n",
    "fig,ax = plt.subplots(1)\n",
    "#fig, ax2=plot.subplot(2)\n",
    "\n",
    "x1 = np.array(gamma)\n",
    "y1 = np.array(acc)\n",
    "# plot the data\n",
    "#ax.plot(x1,y1)\n",
    "plt.plot(x1, y1, 'b')\n",
    "plt.ylabel('Accuracy')\n",
    "plt.xlabel('gamma')\n",
    "plt.title(\"Accuracy vs gamma\")\n",
    "plt.show()"
   ]
  },
  {
   "cell_type": "code",
   "execution_count": null,
   "metadata": {
    "collapsed": true
   },
   "outputs": [],
   "source": [
    "#Backpropagation"
   ]
  },
  {
   "cell_type": "code",
   "execution_count": 8,
   "metadata": {
    "collapsed": true
   },
   "outputs": [],
   "source": [
    "# Backprop on the Seeds Dataset\n",
    "from random import seed\n",
    "from random import randrange\n",
    "from random import random\n",
    "from csv import reader\n",
    "from math import exp\n",
    "\n",
    "# Load a CSV file\n",
    "def load_csv(filename):\n",
    "\tdataset = list()\n",
    "\twith open(filename, 'r') as file:\n",
    "\t\tcsv_reader = reader(file)\n",
    "\t\tfor row in csv_reader:\n",
    "\t\t\tif not row:\n",
    "\t\t\t\tcontinue\n",
    "\t\t\tdataset.append(row)\n",
    "\treturn dataset\n",
    "\n",
    "# Convert string column to float\n",
    "def str_column_to_float(dataset, column):\n",
    "\tfor row in dataset:\n",
    "\t\trow[column] = float(row[column].strip())\n",
    "\n",
    "# Convert string column to integer\n",
    "def str_column_to_int(dataset, column):\n",
    "\tclass_values = [row[column] for row in dataset]\n",
    "\tunique = set(class_values)\n",
    "\tlookup = dict()\n",
    "\tfor i, value in enumerate(unique):\n",
    "\t\tlookup[value] = i\n",
    "\tfor row in dataset:\n",
    "\t\trow[column] = lookup[row[column]]\n",
    "\treturn lookup\n",
    "\n",
    "# Find the min and max values for each column\n",
    "def dataset_minmax(dataset):\n",
    "\tminmax = list()\n",
    "\tstats = [[min(column), max(column)] for column in zip(*dataset)]\n",
    "\treturn stats\n",
    "\n",
    "# Rescale dataset columns to the range 0-1\n",
    "def normalize_dataset(dataset, minmax):\n",
    "\tfor row in dataset:\n",
    "\t\tfor i in range(len(row)-1):\n",
    "\t\t\trow[i] = (row[i] - minmax[i][0]) / (minmax[i][1] - minmax[i][0])\n",
    "\n",
    "# Split a dataset into k folds\n",
    "def cross_validation_split(dataset, n_folds):\n",
    "\tdataset_split = list()\n",
    "\tdataset_copy = list(dataset)\n",
    "\tfold_size = int(len(dataset) / n_folds)\n",
    "\tfor i in range(n_folds):\n",
    "\t\tfold = list()\n",
    "\t\twhile len(fold) < fold_size:\n",
    "\t\t\tindex = randrange(len(dataset_copy))\n",
    "\t\t\tfold.append(dataset_copy.pop(index))\n",
    "\t\tdataset_split.append(fold)\n",
    "\treturn dataset_split\n",
    "\n",
    "# Calculate accuracy percentage\n",
    "def accuracy_metric(actual, predicted):\n",
    "\tcorrect = 0\n",
    "\tfor i in range(len(actual)):\n",
    "\t\tif actual[i] == predicted[i]:\n",
    "\t\t\tcorrect += 1\n",
    "\treturn correct / float(len(actual)) * 100.0\n",
    "\n",
    "# Evaluate an algorithm using a cross validation split\n",
    "def evaluate_algorithm(dataset, algorithm, n_folds, *args):\n",
    "\tfolds = cross_validation_split(dataset, n_folds)\n",
    "\tscores = list()\n",
    "\tfor fold in folds:\n",
    "\t\ttrain_set = list(folds)\n",
    "\t\ttrain_set.remove(fold)\n",
    "\t\ttrain_set = sum(train_set, [])\n",
    "\t\ttest_set = list()\n",
    "\t\tfor row in fold:\n",
    "\t\t\trow_copy = list(row)\n",
    "\t\t\ttest_set.append(row_copy)\n",
    "\t\t\trow_copy[-1] = None\n",
    "\t\tpredicted = algorithm(train_set, test_set, *args)\n",
    "\t\tactual = [row[-1] for row in fold]\n",
    "\t\taccuracy = accuracy_metric(actual, predicted)\n",
    "\t\tscores.append(accuracy)\n",
    "\treturn scores\n",
    "\n",
    "# Calculate neuron activation for an input\n",
    "def activate(weights, inputs):\n",
    "\tactivation = weights[-1]\n",
    "\tfor i in range(len(weights)-1):\n",
    "\t\tactivation += weights[i] * inputs[i]\n",
    "\treturn activation\n",
    "\n",
    "# Transfer neuron activation\n",
    "def transfer(activation):\n",
    "\treturn 1.0 / (1.0 + exp(-activation))\n",
    "\n",
    "# Forward propagate input to a network output\n",
    "def forward_propagate(network, row):\n",
    "\tinputs = row\n",
    "\tfor layer in network:\n",
    "\t\tnew_inputs = []\n",
    "\t\tfor neuron in layer:\n",
    "\t\t\tactivation = activate(neuron['weights'], inputs)\n",
    "\t\t\tneuron['output'] = transfer(activation)\n",
    "\t\t\tnew_inputs.append(neuron['output'])\n",
    "\t\tinputs = new_inputs\n",
    "\treturn inputs\n",
    "\n",
    "# Calculate the derivative of an neuron output\n",
    "def transfer_derivative(output):\n",
    "\treturn output * (1.0 - output)\n",
    "\n",
    "# Backpropagate error and store in neurons\n",
    "def backward_propagate_error(network, expected):\n",
    "\tfor i in reversed(range(len(network))):\n",
    "\t\tlayer = network[i]\n",
    "\t\terrors = list()\n",
    "\t\tif i != len(network)-1:\n",
    "\t\t\tfor j in range(len(layer)):\n",
    "\t\t\t\terror = 0.0\n",
    "\t\t\t\tfor neuron in network[i + 1]:\n",
    "\t\t\t\t\terror += (neuron['weights'][j] * neuron['delta'])\n",
    "\t\t\t\terrors.append(error)\n",
    "\t\telse:\n",
    "\t\t\tfor j in range(len(layer)):\n",
    "\t\t\t\tneuron = layer[j]\n",
    "\t\t\t\terrors.append(expected[j] - neuron['output'])\n",
    "\t\tfor j in range(len(layer)):\n",
    "\t\t\tneuron = layer[j]\n",
    "\t\t\tneuron['delta'] = errors[j] * transfer_derivative(neuron['output'])\n",
    "\n",
    "# Update network weights with error\n",
    "def update_weights(network, row, l_rate):\n",
    "\tfor i in range(len(network)):\n",
    "\t\tinputs = row[:-1]\n",
    "\t\tif i != 0:\n",
    "\t\t\tinputs = [neuron['output'] for neuron in network[i - 1]]\n",
    "\t\tfor neuron in network[i]:\n",
    "\t\t\tfor j in range(len(inputs)):\n",
    "\t\t\t\tneuron['weights'][j] += l_rate * neuron['delta'] * inputs[j]\n",
    "\t\t\tneuron['weights'][-1] += l_rate * neuron['delta']\n",
    "\n",
    "# Train a network for a fixed number of epochs\n",
    "def train_network(network, train, l_rate, n_epoch, n_outputs):\n",
    "\tfor epoch in range(n_epoch):\n",
    "\t\tfor row in train:\n",
    "\t\t\toutputs = forward_propagate(network, row)\n",
    "\t\t\texpected = [0 for i in range(n_outputs)]\n",
    "\t\t\texpected[row[-1]] = 1\n",
    "\t\t\tbackward_propagate_error(network, expected)\n",
    "\t\t\tupdate_weights(network, row, l_rate)\n",
    "\n",
    "# Initialize a network\n",
    "def initialize_network(n_inputs, n_hidden, n_outputs):\n",
    "\tnetwork = list()\n",
    "\thidden_layer = [{'weights':[random() for i in range(n_inputs + 1)]} for i in range(n_hidden)]\n",
    "\tnetwork.append(hidden_layer)\n",
    "\toutput_layer = [{'weights':[random() for i in range(n_hidden + 1)]} for i in range(n_outputs)]\n",
    "\tnetwork.append(output_layer)\n",
    "\treturn network\n",
    "\n",
    "# Make a prediction with a network\n",
    "def predict(network, row):\n",
    "\toutputs = forward_propagate(network, row)\n",
    "\treturn outputs.index(max(outputs))\n",
    "\n",
    "# Backpropagation Algorithm With Stochastic Gradient Descent\n",
    "def back_propagation(train, test, l_rate, n_epoch, n_hidden):\n",
    "\tn_inputs = len(train[0]) - 1\n",
    "\tn_outputs = len(set([row[-1] for row in train]))\n",
    "\tnetwork = initialize_network(n_inputs, n_hidden, n_outputs)\n",
    "\ttrain_network(network, train, l_rate, n_epoch, n_outputs)\n",
    "\tpredictions = list()\n",
    "\tfor row in test:\n",
    "\t\tprediction = predict(network, row)\n",
    "\t\tpredictions.append(prediction)\n",
    "\treturn(predictions)"
   ]
  },
  {
   "cell_type": "code",
   "execution_count": 9,
   "metadata": {
    "collapsed": true
   },
   "outputs": [],
   "source": [
    "bp_parameters={'learning_Rate': list(pl.frange(0.1,0.8,0.1)),\n",
    "              'Hidden Layer': list(range(5,10,1)),\n",
    "            'Number of epoch': list(range(500,1000,200))}"
   ]
  },
  {
   "cell_type": "code",
   "execution_count": null,
   "metadata": {
    "collapsed": true
   },
   "outputs": [],
   "source": [
    "n_folds = 5\n",
    "accuracy=list()\n",
    "\n",
    "with open(\"bp_file.txt\", \"w\") as output:\n",
    "    for l_rate in bp_parameters['learning_Rate']:\n",
    "        for n_hidden in bp_parameters['Hidden Layer']:\n",
    "            for n_epoch in bp_parameters['Number of epoch']:\n",
    "                scores = evaluate_algorithm(dataset, back_propagation, n_folds, l_rate, n_epoch, n_hidden)\n",
    "                accuracy.append((l_rate, n_hidden, n_epoch, sum(scores)/float(len(scores))))\n",
    "                output.write(str(accuracy))\n",
    "                output.write(str(\"\\n\"))\n",
    "                print (\"learning_Rate: %.2f\\t\" \"Number of Hidden Layer: %d \\t\\t\" \"Number of epoch: %d \\t\\t\" \"Mean Accuracy: %0.3f%% \\t\\t\" % (l_rate, n_hidden, n_epoch, (sum(scores)/float(len(scores)))))            \n"
   ]
  },
  {
   "cell_type": "code",
   "execution_count": 716,
   "metadata": {},
   "outputs": [
    {
     "name": "stdout",
     "output_type": "stream",
     "text": [
      "Back propagation best parameters: l_rate=0.70\t n_hidden=8\t n_epochs=900\n"
     ]
    }
   ],
   "source": [
    "import ast\n",
    "\n",
    "with open('C:/Users/Farees Patel/Desktop/bp_file.txt') as f:\n",
    "    lines = f.read().splitlines()\n",
    "\n",
    "x=ast.literal_eval(lines[-1])\n",
    "r=list()\n",
    "for i in x:\n",
    "    r.append(tuple(i))\n",
    "    \n",
    "r.sort(key=lambda tup: tup[3], reverse=True)\n",
    "print(\"Back propagation best parameters: l_rate=%.2f\\t n_hidden=%d\\t n_epochs=%d\" % (r[1][0],r[1][1],r[1][2]))"
   ]
  },
  {
   "cell_type": "code",
   "execution_count": 725,
   "metadata": {
    "collapsed": true
   },
   "outputs": [],
   "source": [
    "l_rate=list()\n",
    "n_hidden=list()\n",
    "n_epoch=list()\n",
    "acc=list()\n",
    "\n",
    "for i in r:\n",
    "    if(i[2]==900 and i[1]==8):\n",
    "        l_rate.append(i[0])\n",
    "        #n_hidden.append(i[1])\n",
    "        #n_epoch.append(i[2])\n",
    "        acc.append(i[3]) "
   ]
  },
  {
   "cell_type": "code",
   "execution_count": 728,
   "metadata": {},
   "outputs": [
    {
     "data": {
      "image/png": "[encoded data removed]",
      "text/plain": [
       "<matplotlib.figure.Figure at 0x1cb63830860>"
      ]
     },
     "metadata": {},
     "output_type": "display_data"
    }
   ],
   "source": [
    "%matplotlib inline\n",
    "fig,ax = plt.subplots(1)\n",
    "#fig, ax2=plot.subplot(2)\n",
    "\n",
    "x1 = np.array(l_rate)\n",
    "y1 = np.array(acc)\n",
    "# plot the data\n",
    "#ax.plot(x1,y1)\n",
    "plt.plot(x1, y1, 'b')\n",
    "plt.ylabel('Accuracy')\n",
    "plt.xlabel('l_rate')\n",
    "plt.title(\"Accuracy vs l_rate\")\n",
    "plt.show()"
   ]
  },
  {
   "cell_type": "code",
   "execution_count": 729,
   "metadata": {
    "collapsed": true
   },
   "outputs": [],
   "source": [
    "#LVQ with best model parameters"
   ]
  },
  {
   "cell_type": "code",
   "execution_count": 15,
   "metadata": {
    "collapsed": true
   },
   "outputs": [],
   "source": [
    "# Split a dataset into k folds\n",
    "def cross_validation_split(dataset, n_folds):\n",
    "\tdataset_split = list()\n",
    "\tdataset_copy = list(dataset)\n",
    "\tfold_size = int(len(dataset) / n_folds)\n",
    "\tfor i in range(n_folds):\n",
    "\t\tfold = list()\n",
    "\t\twhile len(fold) < fold_size:\n",
    "\t\t\tindex = randrange(len(dataset_copy))\n",
    "\t\t\tfold.append(dataset_copy.pop(index))\n",
    "\t\tdataset_split.append(fold)\n",
    "\treturn dataset_split\n",
    " \n",
    "# Calculate accuracy percentage\n",
    "def accuracy_metric(actual, predicted):\n",
    "\tcorrect = 0\n",
    "\tfor i in range(len(actual)):\n",
    "\t\tif actual[i] == predicted[i]:\n",
    "\t\t\tcorrect += 1\n",
    "\treturn correct / float(len(actual)) * 100.0\n",
    "\n",
    " \n",
    "# Evaluate an algorithm using a cross validation split\n",
    "def evaluate_algorithm(train_set,test_set, algorithm, *args):\n",
    "\ttest_y=list()\n",
    "\tfor row in test_set:\n",
    "\t\ttest_y.append(row[-1])\n",
    "\t\trow[-1] = None\n",
    "\tpredicted, test_start = algorithm(train_set, test_set, *args)\n",
    "\ttest_end = timeit.default_timer()\n",
    "\tactual = [row for row in test_y]\n",
    "\tplot_roc.append((actual, predicted))\n",
    "\taccuracy = accuracy_metric(actual, predicted)\n",
    "\treturn accuracy, test_start, test_end\n",
    "\n",
    " \n",
    "# calculate the Euclidean distance between two vectors\n",
    "def euclidean_distance(row1, row2):\n",
    "\tdistance = 0.0\n",
    "\tfor i in range(len(row1)-1):\n",
    "\t\tdistance += (row1[i] - row2[i])**2\n",
    "\treturn sqrt(distance)\n",
    " \n",
    "# Locate the best matching unit\n",
    "def get_best_matching_unit(codebooks, test_row):\n",
    "\tdistances = list()\n",
    "\tfor codebook in codebooks:\n",
    "\t\tdist = euclidean_distance(codebook, test_row)\n",
    "\t\tdistances.append((codebook, dist))\n",
    "\tdistances.sort(key=lambda tup: tup[1])\n",
    "\treturn distances[0][0]\n",
    " \n",
    "# Make a prediction with codebook vectors\n",
    "def predict(codebooks, test_row):\n",
    "\tbmu = get_best_matching_unit(codebooks, test_row)\n",
    "\treturn bmu[-1]\n",
    " \n",
    "# Create a random codebook vector\n",
    "def random_codebook(train):\n",
    "\tn_records = len(train)\n",
    "\tn_features = len(train[0])\n",
    "\tcodebook = [train[randrange(n_records)][i] for i in range(n_features)]\n",
    "\treturn codebook\n",
    " \n",
    "# Train a set of codebook vectors\n",
    "def train_codebooks(train, n_codebooks, lrate, epochs):\n",
    "\tcodebooks = [random_codebook(train) for i in range(n_codebooks)]\n",
    "\tfor epoch in range(epochs):\n",
    "\t\trate = lrate * (1.0-(epoch/float(epochs)))\n",
    "\t\tsum_error = 0.0\n",
    "\t\tfor row in train:\n",
    "\t\t\tbmu = get_best_matching_unit(codebooks, row)\n",
    "\t\t\tfor i in range(len(row)-1):\n",
    "\t\t\t\terror = row[i] - bmu[i]\n",
    "\t\t\t\tsum_error += error**2\n",
    "\t\t\t\tif bmu[-1] == row[-1]:\n",
    "\t\t\t\t\tbmu[i] += rate * error\n",
    "\t\t\t\telse:\n",
    "\t\t\t\t\tbmu[i] -= rate * error\n",
    "#\t\tprint('>epoch=%d, lrate=%.3f, error=%.3f' % (epoch, rate, sum_error))\n",
    "\treturn codebooks\n",
    " \n",
    "# LVQ Algorithm\n",
    "def learning_vector_quantization(train, test, n_codebooks, lrate, epochs):\n",
    "\tcodebooks = train_codebooks(train, n_codebooks, lrate, epochs)\n",
    "\tpredictions = list()\n",
    "\ttest_start = timeit.default_timer()\n",
    "\tfor row in test:\n",
    "\t\toutput = predict(codebooks, row)\n",
    "\t\tpredictions.append(output)\n",
    "\treturn(predictions, test_start)"
   ]
  },
  {
   "cell_type": "code",
   "execution_count": 55,
   "metadata": {},
   "outputs": [
    {
     "data": {
      "text/plain": [
       "{'0': 0, '1': 1}"
      ]
     },
     "execution_count": 55,
     "metadata": {},
     "output_type": "execute_result"
    }
   ],
   "source": [
    "filename = 'C:/Users/Farees Patel/Desktop/ionosphere.csv'\n",
    "dataset = load_csv(filename)\n",
    "\n",
    "for i in range(len(dataset[0])-1):\n",
    "\tstr_column_to_float(dataset, i)\n",
    "# convert class column to integers\n",
    "str_column_to_int(dataset, len(dataset[0])-1)"
   ]
  },
  {
   "cell_type": "code",
   "execution_count": 56,
   "metadata": {
    "collapsed": true
   },
   "outputs": [],
   "source": [
    "import random\n",
    "variable = [0,1]\n",
    "dataset_index=[index for index in range(len(dataset))]\n",
    "train_index=random.sample(range(0, len(dataset)-1), round(0.7*len(dataset)))\n",
    "test_index=set(dataset_index)-set(train_index)\n",
    "for i in dataset:\n",
    "    if(i[-1]==None):\n",
    "        i[-1]=random.choice(variable)\n",
    "train_set=[dataset[x] for x in train_index]\n",
    "test_set=[dataset[x] for x in test_index]"
   ]
  },
  {
   "cell_type": "code",
   "execution_count": 85,
   "metadata": {
    "collapsed": true
   },
   "outputs": [],
   "source": [
    "train_set, train_set1, train_set2=[dataset[x] for x in train_index],[dataset[x] for x in train_index],[dataset[x] for x in train_index]\n",
    "test_set,test_set1,test_set2=[dataset[x] for x in test_index],[dataset[x] for x in test_index],[dataset[x] for x in test_index]"
   ]
  },
  {
   "cell_type": "code",
   "execution_count": 122,
   "metadata": {
    "collapsed": true
   },
   "outputs": [],
   "source": [
    "count_1,count_0, count_None=[],[],[]\n",
    "for u in test_set:\n",
    "    i=u[-1]\n",
    "    if(i==1):\n",
    "        count_1.append(1)\n",
    "    if(i==0):\n",
    "        count_0.append(1)\n",
    "    if(i==None):\n",
    "        count_None.append(1)\n",
    "        "
   ]
  },
  {
   "cell_type": "code",
   "execution_count": 123,
   "metadata": {},
   "outputs": [
    {
     "name": "stdout",
     "output_type": "stream",
     "text": [
      "0 0 105\n"
     ]
    }
   ],
   "source": [
    "print(len(count_1),len(count_0),len(count_None))"
   ]
  },
  {
   "cell_type": "code",
   "execution_count": 88,
   "metadata": {
    "collapsed": true
   },
   "outputs": [],
   "source": [
    "import csv\n",
    "\n",
    "with open(\"train.csv\", \"w\") as f:\n",
    "    writer = csv.writer(f)\n",
    "    writer.writerows(train_set)\n",
    "\n",
    "with open(\"test.csv\", \"w\") as f:\n",
    "    writer = csv.writer(f)\n",
    "    writer.writerows(test_set)"
   ]
  },
  {
   "cell_type": "code",
   "execution_count": 3,
   "metadata": {},
   "outputs": [],
   "source": [
    "import csv\n",
    "with open('train.csv', 'r') as f:\n",
    "    reader = csv.reader(f)\n",
    "    train_set = list(reader)\n",
    "\n",
    "with open('test.csv', 'r') as f:\n",
    "    reader = csv.reader(f)\n",
    "    test_set = list(reader)\n",
    "\n",
    "test_set=[x for x in test_set if x != []]\n",
    "train_set=[x for x in train_set if x != []]\n",
    "\n",
    "train_set=[[float(j) for j in i] for i in train_set]\n",
    "test_set=[[float(j) for j in i] for i in test_set]\n",
    "\n",
    "for u,v in zip(train_set,test_set):\n",
    "    u[-1],v[-1]=int(u[-1]),int(v[-1])"
   ]
  },
  {
   "cell_type": "code",
   "execution_count": 4,
   "metadata": {
    "collapsed": true
   },
   "outputs": [],
   "source": [
    "count_1,count_0, count_None=[],[],[]\n",
    "for u in test_set:\n",
    "    i=u[-1]\n",
    "    if(i==1):\n",
    "        count_1.append(1)\n",
    "    if(i==0):\n",
    "        count_0.append(1)\n",
    "    if(i==None):\n",
    "        count_None.append(1)"
   ]
  },
  {
   "cell_type": "code",
   "execution_count": 5,
   "metadata": {},
   "outputs": [
    {
     "name": "stdout",
     "output_type": "stream",
     "text": [
      "61 44 0\n"
     ]
    }
   ],
   "source": [
    "print(len(count_1),len(count_0),len(count_None))"
   ]
  },
  {
   "cell_type": "code",
   "execution_count": 98,
   "metadata": {
    "collapsed": true
   },
   "outputs": [],
   "source": [
    "# evaluate algorithm\n",
    "plot_roc=list()\n",
    "train_start = timeit.default_timer()\n",
    "learn_rate = 0.3\n",
    "n_epochs = 20\n",
    "n_codebooks = 250\n",
    "scores, test_start, test_end = evaluate_algorithm(train_set,test_set, learning_vector_quantization, n_codebooks, learn_rate, n_epochs)"
   ]
  },
  {
   "cell_type": "code",
   "execution_count": 99,
   "metadata": {},
   "outputs": [
    {
     "data": {
      "text/plain": [
       "81.9047619047619"
      ]
     },
     "execution_count": 99,
     "metadata": {},
     "output_type": "execute_result"
    }
   ],
   "source": [
    "scores"
   ]
  },
  {
   "cell_type": "code",
   "execution_count": 100,
   "metadata": {},
   "outputs": [
    {
     "name": "stdout",
     "output_type": "stream",
     "text": [
      "29 15 4 57\n"
     ]
    }
   ],
   "source": [
    "c1,c2,c3,c4=[],[],[],[]\n",
    "\n",
    "for i,j in zip(plot_roc[0][0],plot_roc[0][1]):\n",
    "    if(i==0 and j==0):\n",
    "        c1.append(1)\n",
    "    if(i==0 and j==1):\n",
    "        c2.append(1)\n",
    "    if(i==1 and j==0):\n",
    "        c3.append(1)\n",
    "    if(i==1 and j==1):\n",
    "        c4.append(1)\n",
    "print(len(c1),len(c2),len(c3),len(c4))    "
   ]
  },
  {
   "cell_type": "code",
   "execution_count": 101,
   "metadata": {},
   "outputs": [
    {
     "name": "stdout",
     "output_type": "stream",
     "text": [
      "LVQ accuracy: 81.905\n",
      "LVQ Algorithm: Area under the curve: 0.797\n",
      "Training Time: 12.5959 seconds\n",
      "Training Time: 0.2666seconds\n",
      "\n",
      "Confusion Matrix\n",
      "\n",
      " [[29 15]\n",
      " [ 4 57]]\n"
     ]
    },
    {
     "data": {
      "image/png": "[encoded data removed]",
      "text/plain": [
       "<matplotlib.figure.Figure at 0x29242268d68>"
      ]
     },
     "metadata": {},
     "output_type": "display_data"
    },
    {
     "name": "stdout",
     "output_type": "stream",
     "text": [
      "Detailed classification report:\n",
      "             precision    recall  f1-score   support\n",
      "\n",
      "          0       0.88      0.66      0.75        44\n",
      "          1       0.79      0.93      0.86        61\n",
      "\n",
      "avg / total       0.83      0.82      0.81       105\n",
      "\n"
     ]
    }
   ],
   "source": [
    "fpr, tpr, _ = roc_curve(plot_roc[0][0], plot_roc[0][1])\n",
    "acc=accuracy_score(plot_roc[0][0], plot_roc[0][1])*100\n",
    "train_time=test_start-train_start\n",
    "test_time=test_end-test_start\n",
    "print(\"LVQ accuracy: %.3f\" % acc)\n",
    "print( \"LVQ Algorithm: Area under the curve: %0.3f\" % auc(fpr, tpr))\n",
    "print(\"Training Time: %.4f seconds\" %train_time)\n",
    "print(\"Training Time: %.4fseconds\" % test_time)\n",
    "\n",
    "print(\"\\nConfusion Matrix\\n\\n\",confusion_matrix(plot_roc[0][0], plot_roc[0][1]))\n",
    "np.set_printoptions(precision=2)\n",
    "\n",
    "plt.plot(fpr, tpr, 'b')\n",
    "plt.plot([0, 1], [0, 1],'r--')\n",
    "plt.ylabel('True Positive Rate')\n",
    "plt.xlabel('False Positive Rate')\n",
    "plt.title(\"ROC curve for LVQ\")\n",
    "plt.show()\n",
    "\n",
    "print(\"Detailed classification report:\")\n",
    "print(classification_report(plot_roc[0][0], plot_roc[0][1]))\n",
    "\n"
   ]
  },
  {
   "cell_type": "code",
   "execution_count": 524,
   "metadata": {},
   "outputs": [
    {
     "name": "stdout",
     "output_type": "stream",
     "text": [
      "LVQ accuracy: 89.524\n",
      "LVQ Algorithm: Area under the curve: 0.867\n",
      "Training Time: 17.6677 seconds\n",
      "Training Time: 0.3743seconds\n",
      "\n",
      "Confusion Matrix\n",
      "\n",
      " [[29  9]\n",
      " [ 2 65]]\n"
     ]
    },
    {
     "data": {
      "image/png": "[encoded data removed]",
      "text/plain": [
       "<matplotlib.figure.Figure at 0x1cb62943a58>"
      ]
     },
     "metadata": {},
     "output_type": "display_data"
    },
    {
     "name": "stdout",
     "output_type": "stream",
     "text": [
      "Detailed classification report:\n",
      "             precision    recall  f1-score   support\n",
      "\n",
      "          0       0.94      0.76      0.84        38\n",
      "          1       0.88      0.97      0.92        67\n",
      "\n",
      "avg / total       0.90      0.90      0.89       105\n",
      "\n"
     ]
    }
   ],
   "source": [
    "fpr, tpr, _ = roc_curve(plot_roc[0][0], plot_roc[0][1])\n",
    "acc=accuracy_score(plot_roc[0][0], plot_roc[0][1])*100\n",
    "train_time=test_start-train_start\n",
    "test_time=test_end-test_start\n",
    "print(\"LVQ accuracy: %.3f\" % acc)\n",
    "print( \"LVQ Algorithm: Area under the curve: %0.3f\" % auc(fpr, tpr))\n",
    "print(\"Training Time: %.4f seconds\" %train_time)\n",
    "print(\"Training Time: %.4fseconds\" % test_time)\n",
    "\n",
    "print(\"\\nConfusion Matrix\\n\\n\",confusion_matrix(plot_roc[0][0], plot_roc[0][1]))\n",
    "np.set_printoptions(precision=2)\n",
    "\n",
    "plt.plot(fpr, tpr, 'b')\n",
    "plt.plot([0, 1], [0, 1],'r--')\n",
    "plt.ylabel('True Positive Rate')\n",
    "plt.xlabel('False Positive Rate')\n",
    "plt.title(\"ROC curve for LVQ\")\n",
    "plt.show()\n",
    "\n",
    "print(\"Detailed classification report:\")\n",
    "print(classification_report(plot_roc[0][0], plot_roc[0][1]))\n",
    "\n"
   ]
  },
  {
   "cell_type": "code",
   "execution_count": 730,
   "metadata": {
    "collapsed": true
   },
   "outputs": [],
   "source": [
    "#SVM with best model parameters"
   ]
  },
  {
   "cell_type": "code",
   "execution_count": 120,
   "metadata": {
    "collapsed": true
   },
   "outputs": [],
   "source": [
    "#SVM\n",
    "filename = 'C:/Users/Farees Patel/Desktop/ionosphere.csv'\n",
    "dataset = load_csv(filename)\n",
    "\n",
    "for i in range(len(dataset[0])-1):\n",
    "\tstr_column_to_float(dataset, i)\n",
    "# convert class column to integers\n",
    "str_column_to_int(dataset, len(dataset[0])-1)\n",
    "\n",
    "train_set=[dataset[x] for x in train_index]\n",
    "test_set=[dataset[x] for x in test_index]\n",
    "\n",
    "svm_dataset=np.array(train_set1)\n",
    "X_train=svm_dataset[:,:-1]\n",
    "y_train=svm_dataset[:,-1]\n",
    "\n",
    "svm_dataset=np.array(test_set1)\n",
    "X_test=svm_dataset[:,:-1]\n",
    "y_test=svm_dataset[:,-1]"
   ]
  },
  {
   "cell_type": "code",
   "execution_count": 108,
   "metadata": {
    "collapsed": true
   },
   "outputs": [],
   "source": [
    "svm_dataset=np.array(train_set)\n",
    "X_train=svm_dataset[:,:-1]\n",
    "y_train=svm_dataset[:,-1]\n",
    "\n",
    "svm_dataset=np.array(test_set)\n",
    "X_test=svm_dataset[:,:-1]\n",
    "y_test=svm_dataset[:,-1]"
   ]
  },
  {
   "cell_type": "code",
   "execution_count": 109,
   "metadata": {},
   "outputs": [
    {
     "name": "stdout",
     "output_type": "stream",
     "text": [
      "SVM accuracy: 90.476%\n",
      "SVM Algorithm: Area under the curve: 0.902\n",
      "Training Time: 0.0050 seconds\n",
      "Testing Time: 0.0009seconds\n",
      "\n",
      "Confusion Matrix\n",
      "\n",
      " [[39  5]\n",
      " [ 5 56]]\n"
     ]
    },
    {
     "data": {
      "image/png": "[encoded data removed]",
      "text/plain": [
       "<matplotlib.figure.Figure at 0x292423a27f0>"
      ]
     },
     "metadata": {},
     "output_type": "display_data"
    },
    {
     "name": "stdout",
     "output_type": "stream",
     "text": [
      "Detailed classification report:\n",
      "             precision    recall  f1-score   support\n",
      "\n",
      "        0.0       0.89      0.89      0.89        44\n",
      "        1.0       0.92      0.92      0.92        61\n",
      "\n",
      "avg / total       0.90      0.90      0.90       105\n",
      "\n"
     ]
    }
   ],
   "source": [
    "train_start = timeit.default_timer()\n",
    "\n",
    "clf = svm.SVC(C= 1, gamma= 0.2, kernel= 'rbf')\n",
    "clf.fit(X_train, y_train)\n",
    "\n",
    "test_start = timeit.default_timer()\n",
    "\n",
    "predicted=clf.predict(X_test)\n",
    "\n",
    "test_end = timeit.default_timer()\n",
    "\n",
    "acc=accuracy_score(y_test, predicted)*100\n",
    "\n",
    "train_time=test_start-train_start\n",
    "test_time=test_end-test_start\n",
    "\n",
    "fpr, tpr, _ = roc_curve(y_test, predicted)\n",
    "print(\"SVM accuracy: %.3f%%\" % acc)\n",
    "print( \"SVM Algorithm: Area under the curve: %0.3f\" % auc(fpr, tpr))\n",
    "print(\"Training Time: %.4f seconds\" %train_time)\n",
    "print(\"Testing Time: %.4fseconds\" % test_time)\n",
    "print(\"\\nConfusion Matrix\\n\\n\",confusion_matrix(y_test, predicted))\n",
    "np.set_printoptions(precision=2)\n",
    "\n",
    "plt.plot(fpr, tpr, 'b')\n",
    "plt.plot([0, 1], [0, 1],'r--')\n",
    "plt.ylabel('True Positive Rate')\n",
    "plt.xlabel('False Positive Rate')\n",
    "plt.title(\"ROC curve for SVM\")\n",
    "plt.show()\n",
    "\n",
    "print(\"Detailed classification report:\")\n",
    "print(classification_report(y_test, predicted))"
   ]
  },
  {
   "cell_type": "code",
   "execution_count": 96,
   "metadata": {},
   "outputs": [
    {
     "name": "stdout",
     "output_type": "stream",
     "text": [
      "SVM accuracy: 94.286%\n",
      "SVM Algorithm: Area under the curve: 0.936\n",
      "Training Time: 0.0055 seconds\n",
      "Testing Time: 0.0013seconds\n",
      "\n",
      "Confusion Matrix\n",
      "\n",
      " [[59  1]\n",
      " [ 5 40]]\n"
     ]
    },
    {
     "data": {
      "image/png": "[encoded data removed]",
      "text/plain": [
       "<matplotlib.figure.Figure at 0x26a1bfeea58>"
      ]
     },
     "metadata": {},
     "output_type": "display_data"
    },
    {
     "name": "stdout",
     "output_type": "stream",
     "text": [
      "Detailed classification report:\n",
      "             precision    recall  f1-score   support\n",
      "\n",
      "        0.0       0.92      0.98      0.95        60\n",
      "        1.0       0.98      0.89      0.93        45\n",
      "\n",
      "avg / total       0.94      0.94      0.94       105\n",
      "\n"
     ]
    }
   ],
   "source": [
    "train_start = timeit.default_timer()\n",
    "\n",
    "clf = svm.SVC(C= 1, gamma= 0.2, kernel= 'rbf')\n",
    "clf.fit(X_train, y_train)\n",
    "\n",
    "test_start = timeit.default_timer()\n",
    "\n",
    "predicted=clf.predict(X_test)\n",
    "\n",
    "test_end = timeit.default_timer()\n",
    "\n",
    "acc=accuracy_score(y_test, predicted)*100\n",
    "\n",
    "train_time=test_start-train_start\n",
    "test_time=test_end-test_start\n",
    "\n",
    "fpr, tpr, _ = roc_curve(y_test, predicted)\n",
    "print(\"SVM accuracy: %.3f%%\" % acc)\n",
    "print( \"SVM Algorithm: Area under the curve: %0.3f\" % auc(fpr, tpr))\n",
    "print(\"Training Time: %.4f seconds\" %train_time)\n",
    "print(\"Testing Time: %.4fseconds\" % test_time)\n",
    "print(\"\\nConfusion Matrix\\n\\n\",confusion_matrix(y_test, predicted))\n",
    "np.set_printoptions(precision=2)\n",
    "\n",
    "plt.plot(fpr, tpr, 'b')\n",
    "plt.plot([0, 1], [0, 1],'r--')\n",
    "plt.ylabel('True Positive Rate')\n",
    "plt.xlabel('False Positive Rate')\n",
    "plt.title(\"ROC curve for SVM\")\n",
    "plt.show()\n",
    "\n",
    "print(\"Detailed classification report:\")\n",
    "print(classification_report(y_test, predicted))"
   ]
  },
  {
   "cell_type": "code",
   "execution_count": 731,
   "metadata": {
    "collapsed": true
   },
   "outputs": [],
   "source": [
    "#Backpropagation with best model parameters"
   ]
  },
  {
   "cell_type": "code",
   "execution_count": 6,
   "metadata": {
    "collapsed": true
   },
   "outputs": [],
   "source": [
    "# Backprop on the Seeds Dataset\n",
    "from random import seed\n",
    "from random import randrange\n",
    "from random import random\n",
    "from math import exp\n",
    "\n",
    "\n",
    "# Calculate accuracy percentage\n",
    "def accuracy_metric(actual, predicted):\n",
    "\tcorrect = 0\n",
    "\tfor i in range(len(actual)):\n",
    "\t\tif actual[i] == predicted[i]:\n",
    "\t\t\tcorrect += 1\n",
    "\treturn correct / float(len(actual)) * 100.0\n",
    "\n",
    "plot_roc=list()\n",
    "\n",
    "# Evaluate an algorithm using a cross validation split\n",
    "def evaluate_algorithm(train_set, test_set, algorithm, *args):\n",
    "\ttest_y=list()\n",
    "\tfor row in test_set:\n",
    "\t\ttest_y.append(row[-1])\n",
    "\t\trow[-1] = None\n",
    "\tpredicted, test_start = algorithm(train_set, test_set, *args)\n",
    "\tactual = [row for row in test_y]\n",
    "\ttest_end = timeit.default_timer()\n",
    "\tplot_roc.append((actual, predicted))\n",
    "\taccuracy = accuracy_metric(actual, predicted)\n",
    "\treturn accuracy, test_start, test_end\n",
    "\n",
    "# Calculate neuron activation for an input\n",
    "def activate(weights, inputs):\n",
    "\tactivation = weights[-1]\n",
    "\tfor i in range(len(weights)-1):\n",
    "\t\tactivation += weights[i] * inputs[i]\n",
    "\treturn activation\n",
    "\n",
    "# Transfer neuron activation\n",
    "def transfer(activation):\n",
    "\treturn 1.0 / (1.0 + exp(-activation))\n",
    "\n",
    "# Forward propagate input to a network output\n",
    "def forward_propagate(network, row):\n",
    "\tinputs = row\n",
    "\tfor layer in network:\n",
    "\t\tnew_inputs = []\n",
    "\t\tfor neuron in layer:\n",
    "\t\t\tactivation = activate(neuron['weights'], inputs)\n",
    "\t\t\tneuron['output'] = transfer(activation)\n",
    "\t\t\tnew_inputs.append(neuron['output'])\n",
    "\t\tinputs = new_inputs\n",
    "\treturn inputs\n",
    "\n",
    "# Calculate the derivative of an neuron output\n",
    "def transfer_derivative(output):\n",
    "\treturn output * (1.0 - output)\n",
    "\n",
    "# Backpropagate error and store in neurons\n",
    "def backward_propagate_error(network, expected):\n",
    "\tfor i in reversed(range(len(network))):\n",
    "\t\tlayer = network[i]\n",
    "\t\terrors = list()\n",
    "\t\tif i != len(network)-1:\n",
    "\t\t\tfor j in range(len(layer)):\n",
    "\t\t\t\terror = 0.0\n",
    "\t\t\t\tfor neuron in network[i + 1]:\n",
    "\t\t\t\t\terror += (neuron['weights'][j] * neuron['delta'])\n",
    "\t\t\t\terrors.append(error)\n",
    "\t\telse:\n",
    "\t\t\tfor j in range(len(layer)):\n",
    "\t\t\t\tneuron = layer[j]\n",
    "\t\t\t\terrors.append(expected[j] - neuron['output'])\n",
    "\t\tfor j in range(len(layer)):\n",
    "\t\t\tneuron = layer[j]\n",
    "\t\t\tneuron['delta'] = errors[j] * transfer_derivative(neuron['output'])\n",
    "\n",
    "# Update network weights with error\n",
    "def update_weights(network, row, l_rate):\n",
    "\tfor i in range(len(network)):\n",
    "\t\tinputs = row[:-1]\n",
    "\t\tif i != 0:\n",
    "\t\t\tinputs = [neuron['output'] for neuron in network[i - 1]]\n",
    "\t\tfor neuron in network[i]:\n",
    "\t\t\tfor j in range(len(inputs)):\n",
    "\t\t\t\tneuron['weights'][j] += l_rate * neuron['delta'] * inputs[j]\n",
    "\t\t\tneuron['weights'][-1] += l_rate * neuron['delta']\n",
    "\n",
    "# Train a network for a fixed number of epochs\n",
    "def train_network(network, train, l_rate, n_epoch, n_outputs):\n",
    "\tfor epoch in range(n_epoch):\n",
    "\t\tfor row in train:\n",
    "\t\t\toutputs = forward_propagate(network, row)\n",
    "\t\t\texpected = [0 for i in range(n_outputs)]\n",
    "\t\t\texpected[int(row[-1])] = 1\n",
    "\t\t\tbackward_propagate_error(network, expected)\n",
    "\t\t\tupdate_weights(network, row, l_rate)\n",
    "\n",
    "# Initialize a network\n",
    "def initialize_network(n_inputs, n_hidden, n_outputs):\n",
    "\tnetwork = list()\n",
    "\thidden_layer = [{'weights':[random.random() for i in range(n_inputs + 1)]} for i in range(n_hidden)]\n",
    "\tnetwork.append(hidden_layer)\n",
    "\toutput_layer = [{'weights':[random.random() for i in range(n_hidden + 1)]} for i in range(n_outputs)]\n",
    "\tnetwork.append(output_layer)\n",
    "\treturn network\n",
    "\n",
    "# Make a prediction with a network\n",
    "def predict(network, row):\n",
    "\toutputs = forward_propagate(network, row)\n",
    "\treturn outputs.index(max(outputs))\n",
    "\n",
    "# Backpropagation Algorithm With Stochastic Gradient Descent\n",
    "def back_propagation(train, test, l_rate, n_epoch, n_hidden):\n",
    "\tn_inputs = len(train[0]) - 1\n",
    "\tn_outputs = len(set([row[-1] for row in train]))\n",
    "\tnetwork = initialize_network(n_inputs, n_hidden, n_outputs)\n",
    "\ttrain_network(network, train, l_rate, n_epoch, n_outputs)\n",
    "\ttest_start = timeit.default_timer()\n",
    "\tpredictions = list()\n",
    "\tfor row in test:\n",
    "\t\tprediction = predict(network, row)\n",
    "\t\tpredictions.append(prediction)\n",
    "\treturn(predictions, test_start)"
   ]
  },
  {
   "cell_type": "code",
   "execution_count": 528,
   "metadata": {
    "collapsed": true
   },
   "outputs": [],
   "source": [
    "#qwerty\n",
    "import random\n",
    "\n",
    "filename = 'C:/Users/Farees Patel/Desktop/ionosphere.csv'\n",
    "dataset = load_csv(filename)\n",
    "\n",
    "for i in range(len(dataset[0])-1):\n",
    "\tstr_column_to_float(dataset, i)\n",
    "# convert class column to integers\n",
    "str_column_to_int(dataset, len(dataset[0])-1)\n",
    "\n",
    "train_set=[dataset[x] for x in train_index]\n",
    "test_set=[dataset[x] for x in test_index]\n",
    "\n",
    "l_rate = 0.7\n",
    "n_epoch = 900\n",
    "n_hidden = 8\n",
    "\n",
    "train_start = timeit.default_timer()\n",
    "scores,test_start, test_end = evaluate_algorithm(train_set, test_set,back_propagation, l_rate, n_epoch, n_hidden)"
   ]
  },
  {
   "cell_type": "code",
   "execution_count": 8,
   "metadata": {},
   "outputs": [
    {
     "data": {
      "text/plain": [
       "[([1,\n",
       "   0,\n",
       "   1,\n",
       "   0,\n",
       "   1,\n",
       "   0,\n",
       "   1,\n",
       "   0,\n",
       "   1,\n",
       "   0,\n",
       "   1,\n",
       "   0,\n",
       "   1,\n",
       "   0,\n",
       "   0,\n",
       "   1,\n",
       "   1,\n",
       "   0,\n",
       "   1,\n",
       "   0,\n",
       "   1,\n",
       "   1,\n",
       "   1,\n",
       "   0,\n",
       "   1,\n",
       "   0,\n",
       "   1,\n",
       "   1,\n",
       "   0,\n",
       "   0,\n",
       "   0,\n",
       "   1,\n",
       "   0,\n",
       "   0,\n",
       "   0,\n",
       "   0,\n",
       "   0,\n",
       "   0,\n",
       "   1,\n",
       "   0,\n",
       "   0,\n",
       "   0,\n",
       "   0,\n",
       "   1,\n",
       "   1,\n",
       "   0,\n",
       "   1,\n",
       "   0,\n",
       "   1,\n",
       "   0,\n",
       "   0,\n",
       "   0,\n",
       "   1,\n",
       "   0,\n",
       "   1,\n",
       "   0,\n",
       "   0,\n",
       "   0,\n",
       "   0,\n",
       "   1,\n",
       "   0,\n",
       "   1,\n",
       "   0,\n",
       "   1,\n",
       "   1,\n",
       "   1,\n",
       "   0,\n",
       "   1,\n",
       "   0,\n",
       "   0,\n",
       "   0,\n",
       "   0,\n",
       "   0,\n",
       "   0,\n",
       "   1,\n",
       "   1,\n",
       "   1,\n",
       "   1,\n",
       "   1,\n",
       "   1,\n",
       "   1,\n",
       "   1,\n",
       "   1,\n",
       "   1,\n",
       "   1,\n",
       "   1,\n",
       "   1,\n",
       "   1,\n",
       "   1,\n",
       "   1,\n",
       "   1,\n",
       "   1,\n",
       "   1,\n",
       "   1,\n",
       "   1,\n",
       "   1,\n",
       "   1,\n",
       "   1,\n",
       "   1,\n",
       "   1,\n",
       "   1,\n",
       "   1,\n",
       "   1,\n",
       "   1,\n",
       "   1],\n",
       "  [1,\n",
       "   0,\n",
       "   1,\n",
       "   0,\n",
       "   0,\n",
       "   0,\n",
       "   0,\n",
       "   1,\n",
       "   1,\n",
       "   1,\n",
       "   1,\n",
       "   0,\n",
       "   1,\n",
       "   0,\n",
       "   1,\n",
       "   1,\n",
       "   0,\n",
       "   0,\n",
       "   1,\n",
       "   1,\n",
       "   0,\n",
       "   0,\n",
       "   1,\n",
       "   0,\n",
       "   1,\n",
       "   0,\n",
       "   1,\n",
       "   1,\n",
       "   0,\n",
       "   1,\n",
       "   0,\n",
       "   1,\n",
       "   0,\n",
       "   0,\n",
       "   1,\n",
       "   0,\n",
       "   1,\n",
       "   0,\n",
       "   1,\n",
       "   0,\n",
       "   0,\n",
       "   0,\n",
       "   0,\n",
       "   1,\n",
       "   1,\n",
       "   0,\n",
       "   1,\n",
       "   0,\n",
       "   1,\n",
       "   0,\n",
       "   0,\n",
       "   1,\n",
       "   0,\n",
       "   0,\n",
       "   1,\n",
       "   1,\n",
       "   0,\n",
       "   0,\n",
       "   0,\n",
       "   1,\n",
       "   0,\n",
       "   1,\n",
       "   1,\n",
       "   1,\n",
       "   1,\n",
       "   1,\n",
       "   0,\n",
       "   1,\n",
       "   0,\n",
       "   0,\n",
       "   1,\n",
       "   0,\n",
       "   0,\n",
       "   0,\n",
       "   1,\n",
       "   1,\n",
       "   1,\n",
       "   1,\n",
       "   1,\n",
       "   1,\n",
       "   1,\n",
       "   1,\n",
       "   1,\n",
       "   1,\n",
       "   1,\n",
       "   1,\n",
       "   1,\n",
       "   1,\n",
       "   1,\n",
       "   1,\n",
       "   1,\n",
       "   1,\n",
       "   1,\n",
       "   1,\n",
       "   1,\n",
       "   1,\n",
       "   1,\n",
       "   1,\n",
       "   1,\n",
       "   1,\n",
       "   1,\n",
       "   1,\n",
       "   0,\n",
       "   1,\n",
       "   1])]"
      ]
     },
     "execution_count": 8,
     "metadata": {},
     "output_type": "execute_result"
    }
   ],
   "source": [
    "plot_roc"
   ]
  },
  {
   "cell_type": "code",
   "execution_count": 7,
   "metadata": {
    "collapsed": true
   },
   "outputs": [],
   "source": [
    "import random\n",
    "\n",
    "l_rate = 0.7\n",
    "n_epoch = 900\n",
    "n_hidden = 8\n",
    "\n",
    "train_start = timeit.default_timer()\n",
    "scores,test_start, test_end = evaluate_algorithm(train_set, test_set,back_propagation, l_rate, n_epoch, n_hidden)"
   ]
  },
  {
   "cell_type": "code",
   "execution_count": 9,
   "metadata": {},
   "outputs": [
    {
     "name": "stdout",
     "output_type": "stream",
     "text": [
      "Backpropagation accuracy: 82.857\n",
      "\n",
      "Backpropagation Algorithm: Area under the curve: 0.818\n",
      "\n",
      "Training Time: 24.3992 seconds\n",
      "\n",
      "Testing Time: 0.0037seconds\n",
      "\n",
      "\n",
      "Confusion Matrix\n",
      "\n",
      " [[33 11]\n",
      " [ 7 54]]\n"
     ]
    },
    {
     "data": {
      "image/png": "[encoded data removed]",
      "text/plain": [
       "<matplotlib.figure.Figure at 0x1f914ae18d0>"
      ]
     },
     "metadata": {},
     "output_type": "display_data"
    },
    {
     "name": "stdout",
     "output_type": "stream",
     "text": [
      "Detailed classification report:\n",
      "             precision    recall  f1-score   support\n",
      "\n",
      "          0       0.82      0.75      0.79        44\n",
      "          1       0.83      0.89      0.86        61\n",
      "\n",
      "avg / total       0.83      0.83      0.83       105\n",
      "\n"
     ]
    }
   ],
   "source": [
    "fpr, tpr, _ = roc_curve(plot_roc[0][0], plot_roc[0][1])\n",
    "acc=accuracy_score(plot_roc[0][0], plot_roc[0][1])*100\n",
    "\n",
    "train_time=test_start-train_start\n",
    "test_time=test_end-test_start\n",
    "\n",
    "print(\"Backpropagation accuracy: %.3f\\n\" % acc)\n",
    "print( \"Backpropagation Algorithm: Area under the curve: %0.3f\\n\" % auc(fpr, tpr))\n",
    "print(\"Training Time: %.4f seconds\\n\" %train_time)\n",
    "print(\"Testing Time: %.4fseconds\\n\" % test_time)\n",
    "print(\"\\nConfusion Matrix\\n\\n\",confusion_matrix(plot_roc[0][0], plot_roc[0][1]))\n",
    "np.set_printoptions(precision=2)\n",
    "\n",
    "plt.plot(fpr, tpr, 'b')\n",
    "plt.plot([0, 1], [0, 1],'r--')\n",
    "plt.ylabel('True Positive Rate')\n",
    "plt.xlabel('False Positive Rate')\n",
    "plt.title(\"ROC curve for Backpropagation Network\")\n",
    "plt.show()\n",
    "\n",
    "print(\"Detailed classification report:\")\n",
    "print(classification_report(plot_roc[0][0], plot_roc[0][1]))\n"
   ]
  },
  {
   "cell_type": "code",
   "execution_count": 529,
   "metadata": {},
   "outputs": [
    {
     "name": "stdout",
     "output_type": "stream",
     "text": [
      "Backpropagation accuracy: 84.762\n",
      "\n",
      "Backpropagation Algorithm: Area under the curve: 0.801\n",
      "\n",
      "Training Time: 35.3211 seconds\n",
      "\n",
      "Testing Time: 0.0047seconds\n",
      "\n",
      "\n",
      "Confusion Matrix\n",
      "\n",
      " [[24 14]\n",
      " [ 2 65]]\n"
     ]
    },
    {
     "data": {
      "image/png": "[encoded data removed]",
      "text/plain": [
       "<matplotlib.figure.Figure at 0x1cb62a73dd8>"
      ]
     },
     "metadata": {},
     "output_type": "display_data"
    },
    {
     "name": "stdout",
     "output_type": "stream",
     "text": [
      "Detailed classification report:\n",
      "             precision    recall  f1-score   support\n",
      "\n",
      "          0       0.92      0.63      0.75        38\n",
      "          1       0.82      0.97      0.89        67\n",
      "\n",
      "avg / total       0.86      0.85      0.84       105\n",
      "\n"
     ]
    }
   ],
   "source": [
    "fpr, tpr, _ = roc_curve(plot_roc[0][0], plot_roc[0][1])\n",
    "acc=accuracy_score(plot_roc[0][0], plot_roc[0][1])*100\n",
    "\n",
    "train_time=test_start-train_start\n",
    "test_time=test_end-test_start\n",
    "\n",
    "print(\"Backpropagation accuracy: %.3f\\n\" % acc)\n",
    "print( \"Backpropagation Algorithm: Area under the curve: %0.3f\\n\" % auc(fpr, tpr))\n",
    "print(\"Training Time: %.4f seconds\\n\" %train_time)\n",
    "print(\"Testing Time: %.4fseconds\\n\" % test_time)\n",
    "print(\"\\nConfusion Matrix\\n\\n\",confusion_matrix(plot_roc[0][0], plot_roc[0][1]))\n",
    "np.set_printoptions(precision=2)\n",
    "\n",
    "plt.plot(fpr, tpr, 'b')\n",
    "plt.plot([0, 1], [0, 1],'r--')\n",
    "plt.ylabel('True Positive Rate')\n",
    "plt.xlabel('False Positive Rate')\n",
    "plt.title(\"ROC curve for Backpropagation Network\")\n",
    "plt.show()\n",
    "\n",
    "print(\"Detailed classification report:\")\n",
    "print(classification_report(plot_roc[0][0], plot_roc[0][1]))\n"
   ]
  }
 ],
 "metadata": {
  "kernelspec": {
   "display_name": "Python 3",
   "language": "python",
   "name": "python3"
  },
  "language_info": {
   "codemirror_mode": {
    "name": "ipython",
    "version": 3
   },
   "file_extension": ".py",
   "mimetype": "text/x-python",
   "name": "python",
   "nbconvert_exporter": "python",
   "pygments_lexer": "ipython3",
   "version": "3.6.2"
  }
 },
 "nbformat": 4,
 "nbformat_minor": 2
}
